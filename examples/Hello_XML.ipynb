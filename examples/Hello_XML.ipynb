{
 "cells": [
  {
   "cell_type": "markdown",
   "metadata": {},
   "source": [
    "# `algebraixlib` Data Algebra Can Model XML\n",
    "\n",
    "This IPython notebook demonstrates that data algebra can be used to query XML. Here you will find a few simple examples of how to use `algebraixlib` to create data algebra queries that are equivalent to XPath and XQuery queries.\n",
    "\n",
    "We will use the XML file `regions.xml` which is a transformation and aggregation of SQL [TPC-H][] `region` and `nation` tables into an XML document. A subset of the file follows:\n",
    "[TPC-H]: <http://www.tpc.org/tpch/> (TPC-H Benchmark Main Page)"
   ]
  },
  {
   "cell_type": "code",
   "execution_count": 1,
   "metadata": {
    "collapsed": false
   },
   "outputs": [
    {
     "name": "stdout",
     "output_type": "stream",
     "text": [
      "<?xml version=\"1.0\" ?>\n",
      "<regions>\n",
      "   <region>\n",
      "      <name>AFRICA</name>\n",
      "      <regionkey>0</regionkey>\n",
      "      <comment>lar deposits. blithely final packages cajole. regular waters are final requests. regular a...</comment>\n",
      "      <nation>\n",
      "         <name>ALGERIA</name>\n",
      "         <nationkey>0</nationkey>\n",
      "         <comment> haggle. carefully final deposits detect slyly agai</comment>\n",
      "      </nation>\n",
      "      <nation>\n",
      "         <name>ETHIOPIA</name>\n",
      "         <nationkey>5</nationkey>\n",
      "         <comment>ven packages wake quickly. regu</comment>\n",
      "      </nation>\n",
      "      <nation>\n",
      "         <name>KENYA</name>\n",
      "         <nationkey>14</nationkey>\n",
      "         <comment> pending excuses haggle furiously deposits. pending, express pinto beans wake fluffily past t</comment>\n",
      "      </nation>\n",
      "      <nation>\n",
      "         <name>MOROCCO</name>\n",
      "         <nationkey>15</nationkey>\n",
      "         <comment>rns. blithely bold courts among the closely regular packages use furiously bold platelets?</comment>\n",
      "      </nation>\n",
      "  \n",
      "...\n",
      "</regions>\n",
      "\n"
     ]
    }
   ],
   "source": [
    "from algebraixlib.io.xml import xml_to_str\n",
    "from algebraixlib.util.miscellaneous import core\n",
    "print(core(xml_to_str('TPC-H_Query5/regions.xml'), 985, 11))"
   ]
  },
  {
   "cell_type": "markdown",
   "metadata": {},
   "source": [
    "## XML Import\n",
    "\n",
    "`algebriaxlib` supports importing XML data and transforming it into data algebra [MathObject][]s. This is done using the XML module's `import_xml` operation. The result of importing `regions.xml` using `import_xml` is a [relation][] of relations.\n",
    "\n",
    "Here's a subset of `regions.xml` shown in data algebra representation. Note that, for simplicity sake, the MathObjects used in this notebook do not maintain order or multiplicity. For this reason elements of the following MathObjects may not be in the same order as the XML document or have duplicates.\n",
    "\n",
    "[MathObject]: <http://algebraixlib.readthedocs.org/en/latest/_source/algebraixlib/algebraixlib.mathobjects.mathobject.html#algebraixlib.mathobjects.mathobject.MathObject>\n",
    "\n",
    "[relation]: <http://algebraixlib.readthedocs.org/en/latest/algebraReference.html#term-relation>"
   ]
  },
  {
   "cell_type": "code",
   "execution_count": 2,
   "metadata": {
    "collapsed": false
   },
   "outputs": [
    {
     "name": "stdout",
     "output_type": "stream",
     "text": [
      "regions_document:\n",
      "Set({\n",
      "   Couplet(left=Atom('regions'), right=\n",
      "      Set({\n",
      "         Couplet(left=Atom('region'), right=\n",
      "            Set({\n",
      "               Couplet(left=Atom('nation'), right=\n",
      "                  Set({\n",
      "                     Couplet(left=Atom('nationkey'), right=Atom(4))\n",
      "                     Couplet(left=Atom('name'), right=Atom('EGYPT'))\n",
      "                     Couplet(left=Atom('comment'), right=Atom('y above the carefully unusu...)\n",
      "                  })\n",
      "               )\n",
      "               Couplet(left=Atom('name'), right=Atom('MIDDLE EAST'))\n",
      "               Couplet(left=Atom('comment'), right=Atom('uickly special accounts cajole ca...)\n",
      "               Couplet(left=Atom('nation'), right=\n",
      "                  Set({\n",
      "                     Couplet(left=Atom('nationkey'), right=Atom(20))\n",
      "                     Couplet(left=Atom('name'), right=Atom('SAUDI ARABIA'))\n",
      "                     Couplet(left=Atom('comment'), right=Atom('ts. silent requests haggle....)\n",
      "                  })\n",
      "               )\n",
      "               Couplet(left=Atom('regionkey'), right=Atom(4))\n",
      "               Couplet(left=Atom('nation'), right=\n",
      "                  Set({\n",
      "                     Couplet(left=Atom('comment'), right=Atom('efully alongside of the sly...)\n",
      "                     Couplet(left=Atom('nationkey'), right=Atom(10))\n",
      "                     Couplet(left=Atom('name'), right=Atom('IRAN'))\n",
      "                  })\n",
      "               )\n",
      "               Couplet(left=Atom('nation'), right=\n",
      "                  Set({\n",
      "                     Couplet(left=Atom('nationkey'), right=Atom(13))\n",
      "                     Couplet(left=Atom('comment'), right=Atom('ic deposits are blithely ab...)\n",
      "                     Couplet(left=Atom('name'), right=Atom('JORDAN'))\n",
      "                  })\n",
      "               )\n",
      "               Couplet(left=Atom('nation'), right=\n",
      "                  Set(\n",
      "...\n",
      "})\n",
      "\n"
     ]
    }
   ],
   "source": [
    "from algebraixlib.util.mathobjectprinter import mo_to_str\n",
    "from algebraixlib.io.xml import import_xml\n",
    "\n",
    "regions_document = import_xml('TPC-H_Query5/regions.xml', convert_numerics=True)\n",
    "print('regions_document:\\n' + core(mo_to_str(regions_document), 1810, 3))"
   ]
  },
  {
   "cell_type": "markdown",
   "metadata": {},
   "source": [
    "##XPath basics\n",
    "### Regions\n",
    "\n",
    "Now that we have the XML document loaded, let's start with a very simple XPath statement to extract all of the regions' data:\n",
    "\n",
    "```shell\n",
    "/regions/region\n",
    "```\n",
    "\n",
    "This is translated using data algebra notation into the following:\n",
    "\n",
    "$\n",
    "\\hspace{16pt} regions = \\{right(R)\\ :\\ R \\in regions\\_document(regions) \\text{ and } left(R) = region \\}\n",
    "$\n",
    "\n",
    "This expresses that `regions` is the result of first retrieving from `regions_document` the [right component][] associated with the [left component][] with the value `regions` followed by retrieving all of the right components associated with the left component with the value `region`.\n",
    "\n",
    "Because XML requires a root element, properly formed XML documents are naturally a [function][] at the top level. So we can refer to `regions_document` as a [Functional][] MathObject and we can use the function operator `()` which allows retrieving a [right component][] associated with a [left component][] but only on Functional MathObjects. Using this operator on `regions_document` with the value `regions` we can retrieve the relation containing all of the regions' data. \n",
    "\n",
    "From this resulting relation we can extract all of it's components into a [set][] using the bracket operator `[]`. The bracket operator, used with a relation or [clan][], allows retrieving the right components associated with a left. Note the distinction here, the function operator is used on a function to extract one right component while the bracket operator is used on a relation or clan to retrieve a set of all of the right components. So using the bracket operator on the result of `regions_document('regions')`, a relation, with the value `region` extracts each of the separate regions' data into a set.\n",
    "\n",
    "####`algebraixlib` implementation:\n",
    "\n",
    "[set]: <http://algebraixlib.readthedocs.org/en/latest/algebraReference.html#term-set>\n",
    "[clan]: <http://algebraixlib.readthedocs.org/en/latest/algebraReference.html#term-clan>\n",
    "[relation]: <http://algebraixlib.readthedocs.org/en/latest/algebraReference.html#term-relation>\n",
    "[function]: <http://algebraixlib.readthedocs.org/en/latest/algebraReference.html#term-function>\n",
    "[Functional]: <http://algebraixlib.readthedocs.org/en/latest/algebraReference.html#term-functional>\n",
    "[right component]: <http://algebraixlib.readthedocs.org/en/latest/algebraReference.html#term-right-component>\n",
    "[left component]: <http://algebraixlib.readthedocs.org/en/latest/algebraReference.html#term-left-component>"
   ]
  },
  {
   "cell_type": "code",
   "execution_count": 3,
   "metadata": {
    "collapsed": false
   },
   "outputs": [
    {
     "name": "stdout",
     "output_type": "stream",
     "text": [
      "regions:\n",
      "Set({\n",
      "   Set({\n",
      "      Couplet(left=Atom('nation'), right=\n",
      "         Set({\n",
      "            Couplet(left=Atom('nationkey'), right=Atom(4))\n",
      "            Couplet(left=Atom('name'), right=Atom('EGYPT'))\n",
      "            Couplet(left=Atom('comment'), right=Atom('y above the carefully unusual theodo...)\n",
      "         })\n",
      "      )\n",
      "      Couplet(left=Atom('name'), right=Atom('MIDDLE EAST'))\n",
      "      Couplet(left=Atom('comment'), right=Atom('uickly special accounts cajole carefully b...)\n",
      "      Couplet(left=Atom('nation'), right=\n",
      "         Set({\n",
      "            Couplet(left=Atom('nationkey'), right=Atom(20))\n",
      "            Couplet(left=Atom('name'), right=Atom('SAUDI ARABIA'))\n",
      "            Couplet(left=Atom('comment'), right=Atom('ts. silent requests haggle. closely ...)\n",
      "         })\n",
      "      )\n",
      "      Couplet(left=Atom('regionkey'), right=Atom(4))\n",
      "      Couplet(left=Atom('nation'), right=\n",
      "         Set({\n",
      "            Couplet(left=Atom('comment'), right=Atom('efully alongside of the slyly final ...)\n",
      "            Couplet(left=Atom('nationkey'), right=Atom(10))\n",
      "            Couplet(left=Atom('name'), right=Atom('IRAN'))\n",
      "         })\n",
      "      )\n",
      "      Couplet(left=Atom('nation'), right=\n",
      "         Set({\n",
      "            Couplet(left=Atom('nationkey'), right=Atom(13))\n",
      "            Couplet(left=Atom('comment'), right=Atom('ic deposits are blithely about the c...)\n",
      "            Couplet(left=Atom('name'), right=Atom('JORDAN'))\n",
      "         })\n",
      "      )\n",
      "      Couplet(left=Atom('nation'), right=\n",
      "         Set({\n",
      "            Couplet(left=Atom('comment'), right=Atom('nic deposits boost atop the quickly ...)\n",
      "            Couplet(left=Atom('name'), right=Atom('IRAQ'))\n",
      "            Couplet(left=Atom('nationkey'), right=Atom(11))\n",
      "         })\n",
      "      )\n",
      "   })\n",
      "   Set({\n",
      "      Couplet(left=Atom('nation'), right=\n",
      "         Set({\n",
      "            Couplet(left=Atom('name'), right=Atom('BRAZIL'))\n",
      "            Couplet(left=Atom('nationkey'), right=Atom(2))\n",
      "            Couplet(left=Atom('comment'), right=Atom('y alongside of the pending deposits....)\n",
      "         })\n",
      "      )\n",
      "     \n",
      "...\n",
      "  })\n",
      "})\n",
      "\n"
     ]
    }
   ],
   "source": [
    "regions = regions_document('regions')['region']\n",
    "print('regions:\\n' + core(mo_to_str(regions), 2000, 8))"
   ]
  },
  {
   "cell_type": "markdown",
   "metadata": {},
   "source": [
    "### Region Keys\n",
    "\n",
    "Next we process an XPath Statement to retrieve all of the region keys.\n",
    "\n",
    "####XPath Statement\n",
    "\n",
    "```shell\n",
    "/regions/region/regionkey\n",
    "```\n",
    "\n",
    "####Data Algebra Translation\n",
    "\n",
    "$\n",
    "\\hspace{16pt} region\\_keys = \\{right(R)\\ :\\ R \\in regions \\text{ and } left(R) =  regionkey \\}\n",
    "$\n",
    "\n",
    "This expresses that `region_keys` is the result of retrieving all of the right components from the relations in `regions` where `regionkey` is a left component.\n",
    "\n",
    "In the implementation we use the square bracket operator to retrieve all of the right components for the `regionkey` left components from the relations in the `regions` clan. This results in a [set][] of [atom][]s, each atom a region key, for all of the region keys.\n",
    "\n",
    "####`algebraixlib` Implementation\n",
    "\n",
    "[set]: <http://algebraixlib.readthedocs.org/en/latest/algebraReference.html#term-set>\n",
    "[atom]: <http://algebraixlib.readthedocs.org/en/latest/algebraReference.html#term-atom>"
   ]
  },
  {
   "cell_type": "code",
   "execution_count": 4,
   "metadata": {
    "collapsed": false
   },
   "outputs": [
    {
     "name": "stdout",
     "output_type": "stream",
     "text": [
      "region_keys: Set({Atom(4), Atom(0), Atom(1), Atom(2), Atom(3)})\n",
      "\n"
     ]
    }
   ],
   "source": [
    "region_keys = regions['regionkey']\n",
    "print('region_keys: ' + mo_to_str(region_keys))"
   ]
  },
  {
   "cell_type": "markdown",
   "metadata": {},
   "source": [
    "### Nation Names\n",
    "\n",
    "Next we process an XPath Statement to retrieve all of the nation names.\n",
    "\n",
    "####XPath Statement\n",
    "\n",
    "```shell\n",
    "/regions/region/nation/name\n",
    "```\n",
    "\n",
    "####Data Algebra Translation\n",
    "\n",
    "$\n",
    "\\hspace{16pt} region\\_nations = \\{right(cp)\\ :\\ R \\in regions \\text{ and } cp \\in R \\text{ and } left(cp) = nation \\}\n",
    "$\n",
    "\n",
    "This expresses that `region_nations` is the result of retrieving all of the relations from `regions`, retrieving all of the couplets from the relations and then retrieving from the [couplet][]s all of the right components where the left component has the value `nation`.\n",
    "\n",
    "$\n",
    "\\hspace{16pt} nation\\_names = \\{right(cp)\\ :\\ R \\in region\\_nations \\text{ and } cp \\in R \\text{ and } left(cp) = name \\}\n",
    "$\n",
    "\n",
    "This expresses that `nation_names` is the result of retrieving all of the relations from `region_nations`, retrieving all of the couplets from the relations and then retrieving from the couplets all of the right components where the left component has the value `name`.\n",
    "\n",
    "In the implementation we use the square bracket operator twice. First to retrieve a clan of all of the right components where the left components of the couplets in the relations in `regions` have the value `nation`. Then from that clan retrieve a set of all of the right components where the left components of the couplets in the relations have the value `name`. This results in a set of atoms where each atom is a nation name.\n",
    "\n",
    "####`algebraixlib` Implementation\n",
    "[couplet]: <http://algebraixlib.readthedocs.org/en/latest/algebraReference.html#term-couplet>"
   ]
  },
  {
   "cell_type": "code",
   "execution_count": 5,
   "metadata": {
    "collapsed": false
   },
   "outputs": [
    {
     "name": "stdout",
     "output_type": "stream",
     "text": [
      "nation_names:\n",
      "Set({Atom('JAPAN'), Atom('EGYPT'), Atom('MOROCCO'), Atom('ETHIOPIA'), Atom('MOZAMBIQUE'), Atom('ARGENTINA'), Atom('INDONESIA'), Atom('SAUDI ARABIA'), Atom('KENYA'), Atom('IRAN'), Atom('JORDAN'), Atom('GERMANY'), Atom('ALGERIA'), Atom('CANADA'), Atom('FRANCE'), Atom('INDIA'), Atom('BRAZIL'), Atom('CHINA'), Atom('UNITED KINGDOM'), Atom('PERU'), Atom('UNITED STATES'), Atom('ROMANIA'), Atom('VIETNAM'), Atom('RUSSIA'), Atom('IRAQ')})\n",
      "\n"
     ]
    }
   ],
   "source": [
    "nation_names = regions['nation']['name']\n",
    "print('nation_names:\\n' + mo_to_str(nation_names))"
   ]
  },
  {
   "cell_type": "markdown",
   "metadata": {},
   "source": [
    "## XQuery Basics\n",
    "### All Region Related Nation Names\n",
    "\n",
    "Let's step it up and retrieve all nation names for a particular region.\n",
    "\n",
    "####XQuery Expression\n",
    "\n",
    "```shell\n",
    "for $x in doc(\"regions.xml\")/regions/region where $x/name='AMERICA' return $x/nation/name\n",
    "```\n",
    "\n",
    "####Data Algebra Translation\n",
    "\n",
    "$\n",
    "\\hspace{16pt} america\\_region = regions \\blacktriangleright \\{\\{name{\\mapsto}\\text{'AMERICA'}\\}\\}\n",
    "$\n",
    "\n",
    "This expresses that `america_region` is the result from using [superstriction][] on the clan `regions` with a clan that has a single relation with a single couplet with the left component 'name' and the right component 'AMERICA'. \n",
    "\n",
    "$\n",
    "\\hspace{16pt} america\\_region\\_nations = \\{right(cp)\\ :\\ R \\in america\\_region \\text{ and } cp \\in R \\text{ and } left(cp) = nation \\}\n",
    "$\n",
    "\n",
    "This expresses that `america_region_nations` is the result of retrieving all of the relations from `america_region`, retrieving all of the couplets from the relations and then retrieving from the couplets all of the right components where the left component has the value `nation`.\n",
    "\n",
    "$\n",
    "\\hspace{16pt} america\\_nations\\_names = \\{right(cp)\\ :\\ R \\in america\\_region\\_nations \\text{ and } cp \\in R \\text{ and } left(cp) = name \\}\n",
    "$\n",
    "\n",
    "This expresses that `america_nation_names` is the result of retrieving all of the relations from `america_region_nations`, retrieving all of the couplets from the relations and then retrieving from the couplets all of the right components where the left component has the value `name`.\n",
    "\n",
    "In our implementation we first extract the region data from all regions with the name 'AMERICA' so we can isolate the region data used for the next operation. To do so we use the `superstrict` operation to retrieve only those relations that correspond to a clan superset, in this case a clan with a single relation mapping 'name' to 'AMERICA'. From that result we use the square bracket operator twice. First to retrieve a clan of all of the right components where the left components of the couplets in the relations in `america_region` have the value `nation`. Then from that clan retrieve a set of all of the right components where the left components of the couplets in the relations have the value `name`. This results in a set of atoms, each atom a nation name, comprising all of the nation names from the region with the name 'AMERICA'\n",
    "\n",
    "####`algebraixlib` implementation:\n",
    "\n",
    "[superstriction]: <http://algebraixlib.readthedocs.org/en/latest/algebraReference.html#term-superstriction>"
   ]
  },
  {
   "cell_type": "code",
   "execution_count": 6,
   "metadata": {
    "collapsed": false
   },
   "outputs": [
    {
     "name": "stdout",
     "output_type": "stream",
     "text": [
      "america_nations_names:\n",
      "Set({Atom('CANADA'), Atom('ARGENTINA'), Atom('UNITED STATES'), Atom('PERU'), Atom('BRAZIL')})\n",
      "\n"
     ]
    }
   ],
   "source": [
    "from algebraixlib.algebras.clans import superstrict, from_dict\n",
    "america_region_name = from_dict({'name': 'AMERICA'})\n",
    "america_region = superstrict(regions, america_region_name)\n",
    "america_nations_names = america_region['nation']['name']\n",
    "print('america_nations_names:\\n' + mo_to_str(america_nations_names))"
   ]
  },
  {
   "cell_type": "markdown",
   "metadata": {},
   "source": [
    "### All Region Key and Nation Name Pairs\n",
    "\n",
    "Now let's retrieve the nation names and their corresponding region key as pairs. This is more complicated because each region must be evaluated individually to determine the region key and nation names which are then aggregated.\n",
    "\n",
    "####XQuery Expression\n",
    "\n",
    "```shell\n",
    "for $x in doc(\"regions.xml\")/regions/region/nation/name return <pair>{$x/../../regionkey}{$x}</pair>\n",
    "```\n",
    "\n",
    "####Data algebra translation:\n",
    "\n",
    "\n",
    "**Note: the following are completed once for each `region` relation in the `regions` clan.**\n",
    "\n",
    "$\n",
    "\\hspace{16pt} region\\_key = project(\\{region\\}, 'regionkey'\\}\n",
    "$\n",
    "\n",
    "This expresses that `region_key` is the result of using projection with the relation `region` that has been turned into a clan (by embedding it into a set using curly braces '{}') and 'regionkey'. This provides the region key for this region.\n",
    "\n",
    "$\n",
    "\\hspace{16pt} region\\_nations = \\{right(R)\\ :\\ R \\in region \\text{ and } left(R) = nation \\}\n",
    "$\n",
    "\n",
    "This expresses that `region_nations` is the result of using the bracket operator to retrieve all of the right components from `region` where `nation` is a left component. This extracts the nation data out of the region data.\n",
    "\n",
    "$\n",
    "\\hspace{16pt} region\\_nation\\_names = project(region\\_nations, 'name'\\}\n",
    "$\n",
    "\n",
    "This expresses that `region_nation_names` is the result of using projection with the clan `region_nations` and 'name'. This produces a clan containing the nation names for this region.\n",
    "\n",
    "\n",
    "$\n",
    "\\hspace{16pt} region\\_key\\_nation\\_name\\_pairs = region\\_key \\blacktriangledown region\\_nation\\_names\n",
    "$\n",
    "\n",
    "This expresses that `region_key_nation_name_pairs` is the result of using [cross-union][] with `region_key` and `region_nation_names`. This results in a clan which contains each nation name and its region key.\n",
    "\n",
    "$\n",
    "\\hspace{16pt} region\\_key\\_nation\\_name\\_pairs\\_accumulator = region\\_key\\_nation\\_name\\_pairs\\_accumulator \\cup region\\_key\\_nation\\_name\\_pairs\n",
    "$\n",
    "\n",
    "This expresses that `region_key_nation_name_pairs_accumulator` is the result of its union with `region_key_nation_name_pairs`. This produces a new clan that is the accumulation of all of the nation name and region key pairs.\n",
    "\n",
    "In the implementation we iterate each of the `region` relations in the `regions` clan. For each `region` relation we insert it into a set in order to make it a clan and use projection with 'regionkey' to retrieve this region's `regionkey` as a clan. Next we use the bracket operator with `region` to retrieve a clan of all of the nations' data for this region. Then we reduce that data to a clan of nation name couplets by way of projection and use cross-union to pair the region key clan with the nation name clan. This pairs each nation name couplet with the region key couplet to form a clan with this region's region key and nation name as pairs. Finally the region key and nation name pairs clan is set unioned into a value external to the loop that accumulates all of the region key and nation name pairs' clans generated during each iteration.\n",
    "\n",
    "####`algebraixlib` implementation:\n",
    "\n",
    "[diagonal]: <http://algebraixlib.readthedocs.org/en/latest/algebraReference.html#term-diagonal>\n",
    "[cross-union]: <http://algebraixlib.readthedocs.org/en/latest/algebraReference.html#term-cross-union>\n",
    "[set-union]: <http://algebraixlib.readthedocs.org/en/latest/algebraReference.html#term-union>\n",
    "[clans-project]: <http://algebraixlib.readthedocs.org/en/latest/_source/algebraixlib/algebraixlib.algebras.clans.html#algebraixlib.algebras.clans.project>"
   ]
  },
  {
   "cell_type": "code",
   "execution_count": 7,
   "metadata": {
    "collapsed": false
   },
   "outputs": [
    {
     "name": "stdout",
     "output_type": "stream",
     "text": [
      "region key nation name pairs:\n",
      "Set({\n",
      "   Set({\n",
      "      Couplet(left=Atom('regionkey'), right=Atom(0))\n",
      "      Couplet(left=Atom('name'), right=Atom('KENYA'))\n",
      "   })\n",
      "   Set({\n",
      "      Couplet(left=Atom('name'), right=Atom('BRAZIL'))\n",
      "      Couplet(left=Atom('regionkey'), right=Atom(1))\n",
      "   })\n",
      "   Set({\n",
      "      Couplet(left=Atom('name'), right=Atom('UNITED KINGDOM'))\n",
      "      Couplet(left=Atom('regionkey'), right=Atom(3))\n",
      "   })\n",
      "   Set({\n",
      "      Couplet(left=Atom('name'), right=Atom('ARGENTINA'))\n",
      "      Couplet(left=Atom('regionkey'), right=Atom(1))\n",
      "   })\n",
      "   Set({\n",
      "      Couplet(left=Atom('regionkey'), right=Atom(2))\n",
      "      Couplet(left=Atom('name'\n",
      "...\n",
      "  })\n",
      "})\n",
      "\n"
     ]
    }
   ],
   "source": [
    "from algebraixlib.mathobjects import Set\n",
    "from algebraixlib.algebras.clans import project, cross_union\n",
    "from algebraixlib.algebras.sets import union\n",
    "region_key_nation_name_pairs_accumulator = Set()\n",
    "for region in regions:\n",
    "    region_key = project(Set(region), 'regionkey')\n",
    "    region_nations = region['nation']\n",
    "    region_nation_names = project(region_nations, 'name')\n",
    "    region_key_nation_name_pairs = cross_union(region_key, region_nation_names)\n",
    "    region_key_nation_name_pairs_accumulator = union(region_key_nation_name_pairs_accumulator, region_key_nation_name_pairs)\n",
    "    \n",
    "print('region key nation name pairs:\\n' + core(mo_to_str(region_key_nation_name_pairs_accumulator), 600, 8))"
   ]
  },
  {
   "cell_type": "markdown",
   "metadata": {},
   "source": [
    "## All Regions With Nation Named \"UNITED STATES\"\n",
    "\n",
    "For our final query we retrieve the region name of a region which includes a particular nation name.\n",
    "\n",
    "####XQuery Expression\n",
    "\n",
    "```shell\n",
    "for $x in doc(\"regions.xml\")/regions/region/nation[name=\"UNITED STATES\"] return $x/../name\n",
    "```\n",
    "\n",
    "####Data Algebra Translation\n",
    "\n",
    "We can build upon our last example by reusing its resulting collection of region key and nation name pairs.\n",
    "\n",
    "$\n",
    "\\hspace{16pt} us\\_region\\_key\\_nation\\_name\\_pair = region\\_key\\_nation\\_name\\_pairs \\blacktriangleright \\{\\{'name'{\\mapsto}\\text{'UNITED STATES}\\}\\}\n",
    "$\n",
    "\n",
    "This expresses that `us_region_key_nation_name_pair` is the result of using [superstriction][] with `region_key_nation_name_pairs` and the clan with a single element with 'name' for the left component and 'UNITED STATES' for the right component. This has the effect of eliminating all of the region key and nation name pairs except the one with the nation name which is 'UNITED STATES'.\n",
    "\n",
    "$\n",
    "\\hspace{16pt} us\\_region\\_key = project(us\\_region\\_key\\_nation\\_name\\_pair, 'regionkey')\n",
    "$\n",
    "\n",
    "This expresses that `us_region_key` is the result of using projection with the clan `us_region_key_nation_name_pair` and the diagonal with the element 'regionkey'. This produces a clan containing the region key associated with the nation named 'UNITED STATES'.\n",
    "\n",
    "$\n",
    "\\hspace{16pt} us\\_region = regions \\blacktriangleright us\\_region\\_key\n",
    "$\n",
    "\n",
    "This expresses that `us_region` is the result of using superstriction with `regions` and the clan `us_region_key`. This produces a clan with only the region data for the region containing the nation named 'UNITED STATES'.\n",
    "\n",
    "$\n",
    "\\hspace{16pt} us\\_region\\_name = project(us\\_region, 'name')\n",
    "$\n",
    "\n",
    "This expresses that `us_region_name` is the result of using projection with the clan `us_region` and the diagonal with element 'name'. This extracts the region name of the region containing the nation named 'UNITED STATES'. \n",
    "\n",
    "In the implementation we start with a clan created using a set with one relation with one couplet having the left component 'name' and the right component 'UNITED STATES'. This is needed as a clan because it is used in superstriction, a clan operation, with the clan `region_key_nation_name_pairs`. The superstriction is used to extract the region key and nation name which includes the nation named 'UNITED STATES'. From the resulting clan we project out the region keys and use them in a superstriction with `regions` to extract the region corresponding to the region key. Lastly we project out the name for the region that inclues the nation named 'UNITED STATES': 'AMERICA'.\n",
    "\n",
    "####`algebraixlib` Implementation\n",
    "\n",
    "[`superstriction`]: <http://algebraixlib.readthedocs.org/en/latest/algebraReference.html#term-superstriction>\n"
   ]
  },
  {
   "cell_type": "code",
   "execution_count": 8,
   "metadata": {
    "collapsed": false
   },
   "outputs": [
    {
     "name": "stdout",
     "output_type": "stream",
     "text": [
      "us_region_name:\n",
      "Set({\n",
      "   Set({\n",
      "      Couplet(left=Atom('name'), right=Atom('AMERICA'))\n",
      "   })\n",
      "})\n",
      "\n"
     ]
    }
   ],
   "source": [
    "from algebraixlib.mathobjects.couplet import Couplet\n",
    "us_nation_name = from_dict({'name': 'UNITED STATES'})\n",
    "us_region_key_nation_name_pair = superstrict(region_key_nation_name_pairs_accumulator, us_nation_name)\n",
    "us_region_key = project(us_region_key_nation_name_pair, 'regionkey')\n",
    "us_region = superstrict(regions, us_region_key)\n",
    "us_region_name = project(us_region, 'name')\n",
    "print('us_region_name:\\n' + mo_to_str(us_region_name))"
   ]
  },
  {
   "cell_type": "markdown",
   "metadata": {
    "collapsed": true
   },
   "source": [
    "----\n",
    "&copy; Copyright Permission.io, Inc. (formerly known as Algebraix Data Corporation), Copyright (c) 2022.\n",
    "\n",
    "This file is part of [`algebraixlib`][] .\n",
    "\n",
    "[`algebraixlib`][] is free software: you can redistribute it and/or modify it under the terms of [version 3 of the GNU Lesser General Public License][] as published by the [Free Software Foundation][].\n",
    "\n",
    "[`algebraixlib`][] is distributed in the hope that it will be useful, but WITHOUT ANY WARRANTY; without even the implied warranty of MERCHANTABILITY or FITNESS FOR A PARTICULAR PURPOSE. See the GNU Lesser General Public License for more details.\n",
    "\n",
    "You should have received a copy of the GNU Lesser General Public License along with [`algebraixlib`][]. If not, see [GNU licenses][].\n",
    "\n",
    "[`algebraixlib`]: <http://github.com/AlgebraixData/algebraixlib> (A Python library for data algebra)\n",
    "[Version 3 of the GNU Lesser General Public License]: <http://www.gnu.org/licenses/lgpl-3.0-standalone.html> \n",
    "[Free Software Foundation]: <http://www.fsf.org/>\n",
    "[GNU licenses]: <http://www.gnu.org/licenses/>"
   ]
  }
 ],
 "metadata": {
  "kernelspec": {
   "display_name": "Python 3",
   "language": "python",
   "name": "python3"
  },
  "language_info": {
   "codemirror_mode": {
    "name": "ipython",
    "version": 3
   },
   "file_extension": ".py",
   "mimetype": "text/x-python",
   "name": "python",
   "nbconvert_exporter": "python",
   "pygments_lexer": "ipython3",
   "version": "3.4.3"
  }
 },
 "nbformat": 4,
 "nbformat_minor": 0
}
